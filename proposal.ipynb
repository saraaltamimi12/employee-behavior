{
 "cells": [
  {
   "cell_type": "markdown",
   "id": "48d3f9f7",
   "metadata": {},
   "source": [
    "## employee behavior"
   ]
  },
  {
   "cell_type": "markdown",
   "id": "a697a074",
   "metadata": {},
   "source": [
    "Appenddix\n",
    "-click on the link:\n",
    ">1. <a href=#overview> OVERVIEW</a>\n",
    ">2. <a href=#mot> MOTIVATIONS</a>\n",
    ">3. <a href=#desc> DESCRIBE DATA</a>\n",
    ">4. <a href=#tools> TOOLS</a>"
   ]
  },
  {
   "cell_type": "markdown",
   "id": "144d8da2",
   "metadata": {},
   "source": [
    "<a name=#overview style=\"font-size:150%;\"> OVERVIEW:</a>\n",
    "\n",
    "Intended for HR analytics where companies can predict which employee is likely to leave this company based on several characteristics."
   ]
  },
  {
   "cell_type": "markdown",
   "id": "f58ee0e0",
   "metadata": {},
   "source": [
    "<a name=#mot style=\" font-size:150%;\"> MOTIVATIONS:</a>\n",
    "\n",
    "Anticipate employee behavior"
   ]
  },
  {
   "cell_type": "markdown",
   "id": "a03311aa",
   "metadata": {},
   "source": [
    "<a name=#desc style=\"font-size:150%;\"> DESCRIBE DATA:</a>\n",
    "\n",
    "Collecting data from  \"https://www.kaggle.com\"\n",
    "\n",
    "I have 10 columns and 14999 rows.\n",
    "\n",
    "satisfaction_level:employee satisfaction level \n",
    "\n",
    "last_evaluation: employee last evaluation\n",
    "\n",
    "number_project :Number of employee projects  \n",
    "\n",
    "average_montly_hours :Average monthly hours spent by an employee  \n",
    "\n",
    "time_spend_company :How much time does he/she spend in the company\n",
    "\n",
    "Work_accident :The number of accidents that occurred at work\n",
    "\n",
    "left: Will he quit or continue\n",
    "\n",
    "promotion_last_5years :Did he have the promotion last 5 years?\n",
    "\n",
    "Department: In which department does he/she work    \n",
    "\n",
    "salary:How much is the salary      \n",
    "\n",
    "left :I would expect as a target\n",
    "\n",
    "Features :All columns except  (left column)"
   ]
  },
  {
   "cell_type": "markdown",
   "id": "aee1b79f",
   "metadata": {},
   "source": [
    "<a name=#tools; style=\"font-size:150%;\"> TOOLS:</a>\n",
    "\n",
    "1.Pandas\n",
    "    \n",
    "2.Numpy\n",
    "    \n",
    "3.Matplotlib\n",
    "    \n",
    "4.Seaborn\n",
    "    \n",
    "5.Sys\n",
    "\n",
    "6.LogisticRegression\n",
    "\n",
    "7.StandardScaler\n",
    "\n",
    "8.LinearRegression, Lasso, LassoCV, Ridge, RidgeCV ,GridSearchCV"
   ]
  },
  {
   "cell_type": "code",
   "execution_count": null,
   "id": "3fd50f42",
   "metadata": {},
   "outputs": [],
   "source": []
  }
 ],
 "metadata": {
  "kernelspec": {
   "display_name": "Python 3",
   "language": "python",
   "name": "python3"
  },
  "language_info": {
   "codemirror_mode": {
    "name": "ipython",
    "version": 3
   },
   "file_extension": ".py",
   "mimetype": "text/x-python",
   "name": "python",
   "nbconvert_exporter": "python",
   "pygments_lexer": "ipython3",
   "version": "3.8.8"
  }
 },
 "nbformat": 4,
 "nbformat_minor": 5
}
